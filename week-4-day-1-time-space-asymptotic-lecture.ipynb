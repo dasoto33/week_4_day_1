{
 "cells": [
  {
   "attachments": {},
   "cell_type": "markdown",
   "metadata": {},
   "source": [
    "# Asymptotic Analysis & Data Structures\n",
    "\n",
    "### Topics to discuss today:\n",
    "\n",
    "<ul>\n",
    "    <li>What is Asymptotic Analysis?</li>\n",
    "    <li>Classifying time complexities</li>\n",
    "    <li>Classifying space complexities</li>\n",
    "    <li>Implementing a LinkedList</li>\n",
    "</ul>"
   ]
  },
  {
   "attachments": {},
   "cell_type": "markdown",
   "metadata": {},
   "source": [
    "### What is Asymptotic Analysis?\n",
    "\n",
    "Asymptotic analysis refers to setting mathematical bounds of an algorithms run-time performance. Asymptotic analysis is used for estimating time and space complexity.\n",
    "\n",
    "There are three metrics we measure:\n",
    "<ul>\n",
    "<li><b>Best Case</b> − Minimum time required for running.</li>\n",
    "<li><b>Average Case</b> − Average time required for running.</li>\n",
    "<li><b>Worst Case</b> − Maximum time required for running.</li>\n",
    "</ul>\n",
    "\n",
    "Here are the two major asymptotic notations that we'll be focusing on today:\n",
    "<ul>\n",
    "<li>Ο Notation (Big O Notation)</li>\n",
    "<li>Ω Notation (Omega Notation)</li>\n",
    "</ul>\n",
    "\n",
    "#### Big O Notation\n",
    "Big O notation expresses the <b>upper bound</b> of an algorithm's execution time. This measures the <b>worst case</b> time complexity.\n",
    "\n",
    "#### Omega Notation\n",
    "Omega notation expresses the <b>lower bound</b> of an algorithm's execution time. This measures the <b>best case</b> time complexity."
   ]
  },
  {
   "attachments": {},
   "cell_type": "markdown",
   "metadata": {},
   "source": [
    "\n",
    "\n",
    "<table style=\"text-align:left;\" class=\"table table-bordered\">\n",
    "    <thead>\n",
    "        <tr>\n",
    "            <th>Name</th>\n",
    "            <th>Time Complexity</th>\n",
    "        </tr>\n",
    "    </thead>\n",
    "\n",
    "  <tr>\n",
    "<td>constant</td>\n",
    "<td>Ο(1)</td>\n",
    "</tr>\n",
    "<tr>\n",
    "<td>logarithmic</td>\n",
    "<td>Ο(log n)</td>\n",
    "</tr>\n",
    "<tr>\n",
    "<td>linear</td>\n",
    "<td>Ο(n)</td>\n",
    "</tr>\n",
    "<tr>\n",
    "<td>n log n</td>\n",
    "<td>Ο(n log n)</td>\n",
    "</tr>\n",
    "<tr>\n",
    "<td>quadratic</td>\n",
    "<td>Ο(n<sup>2</sup>)</td>\n",
    "</tr>\n",
    "<tr>\n",
    "<td>cubic</td>\n",
    "<td>Ο(n<sup>3</sup>)</td>\n",
    "</tr>\n",
    "<tr>\n",
    "<td>polynomial</td>\n",
    "<td>n<sup>Ο(1)</sup></td>\n",
    "</tr>\n",
    "<tr>\n",
    "<td>exponential</td>\n",
    "<td>2<sup>Ο(n)</sup></td>\n",
    "</tr>\n",
    "</table>\n",
    "\n",
    "Extra resources:\n",
    "https://www.youtube.com/watch?v=0oDAlMwTrLo"
   ]
  },
  {
   "attachments": {},
   "cell_type": "markdown",
   "metadata": {},
   "source": [
    "##### O(1) Example\n",
    "No matter the size of the input data, the execution time will always be the same"
   ]
  },
  {
   "cell_type": "code",
   "execution_count": 1,
   "metadata": {},
   "outputs": [
    {
     "name": "stdout",
     "output_type": "stream",
     "text": [
      "False\n"
     ]
    }
   ],
   "source": [
    "# Constant -> O(1)\n",
    "# based off number of steps \n",
    "\n",
    "a = 10000000\n",
    "b = 2000000\n",
    "\n",
    "def is_smaller(a,b):\n",
    "    return a < b  # O(1) it is a constant because it is always taking 1 step\n",
    "\n",
    "print(is_smaller(a,b))"
   ]
  },
  {
   "cell_type": "code",
   "execution_count": 2,
   "metadata": {},
   "outputs": [
    {
     "name": "stdout",
     "output_type": "stream",
     "text": [
      "85.4 ns ± 19.9 ns per loop (mean ± std. dev. of 7 runs, 10,000,000 loops each)\n"
     ]
    }
   ],
   "source": [
    "%timeit is_smaller(10,20)"
   ]
  },
  {
   "cell_type": "code",
   "execution_count": 3,
   "metadata": {},
   "outputs": [
    {
     "name": "stdout",
     "output_type": "stream",
     "text": [
      "108 ns ± 24.2 ns per loop (mean ± std. dev. of 7 runs, 10,000,000 loops each)\n"
     ]
    }
   ],
   "source": [
    "%timeit is_smaller(10000000,2000000)"
   ]
  },
  {
   "cell_type": "code",
   "execution_count": 4,
   "metadata": {},
   "outputs": [
    {
     "name": "stdout",
     "output_type": "stream",
     "text": [
      "1\n",
      "1\n",
      "1\n"
     ]
    }
   ],
   "source": [
    "a_list = [1,2,3,4,5,6,7,8,9,10]\n",
    "\n",
    "i = 0\n",
    "for num in a_list:\n",
    "    print(a_list[0])\n",
    "    i+= 1\n",
    "    if i >= 3:\n",
    "        break"
   ]
  },
  {
   "cell_type": "code",
   "execution_count": 40,
   "metadata": {},
   "outputs": [],
   "source": [
    "def compare_elements_in_list(alist):\n",
    "# indexing into lit is constant\n",
    "   return alist[0] > alist[-1] # O(1)\n",
    "\n",
    "#O(N) -> Constant"
   ]
  },
  {
   "cell_type": "code",
   "execution_count": 43,
   "metadata": {},
   "outputs": [],
   "source": [
    "testlist=([num for num in range(10000000)])"
   ]
  },
  {
   "cell_type": "code",
   "execution_count": 41,
   "metadata": {},
   "outputs": [
    {
     "name": "stdout",
     "output_type": "stream",
     "text": [
      "170 ns ± 62.4 ns per loop (mean ± std. dev. of 7 runs, 1,000,000 loops each)\n",
      "938 ms ± 127 ms per loop (mean ± std. dev. of 7 runs, 1 loop each)\n"
     ]
    }
   ],
   "source": [
    "%timeit compare_elements_in_list([0,1])"
   ]
  },
  {
   "cell_type": "code",
   "execution_count": 44,
   "metadata": {},
   "outputs": [
    {
     "name": "stdout",
     "output_type": "stream",
     "text": [
      "281 ns ± 77.3 ns per loop (mean ± std. dev. of 7 runs, 1,000,000 loops each)\n"
     ]
    }
   ],
   "source": [
    "%timeit compare_elements_in_list(testlist)"
   ]
  },
  {
   "attachments": {},
   "cell_type": "markdown",
   "metadata": {},
   "source": [
    "##### O(n) Example\n",
    "The execution time increases linearly with the length of the input. For each growth in size of the input, the time it takes to run increases by the same amount."
   ]
  },
  {
   "cell_type": "code",
   "execution_count": 5,
   "metadata": {},
   "outputs": [],
   "source": [
    "def find_sum(a_list):\n",
    "    curr_sum = 0\n",
    "    for num in a_list:  # O(N) linear\n",
    "        curr_sum += num\n",
    "        \n",
    "    return curr_sum\n",
    "\n",
    "# O(N + 1) -> O(N)"
   ]
  },
  {
   "cell_type": "code",
   "execution_count": 6,
   "metadata": {},
   "outputs": [
    {
     "name": "stdout",
     "output_type": "stream",
     "text": [
      "315 ns ± 74 ns per loop (mean ± std. dev. of 7 runs, 1,000,000 loops each)\n"
     ]
    }
   ],
   "source": [
    "%timeit find_sum([1,42,12])"
   ]
  },
  {
   "cell_type": "code",
   "execution_count": 7,
   "metadata": {},
   "outputs": [
    {
     "name": "stdout",
     "output_type": "stream",
     "text": [
      "310 ns ± 22.6 ns per loop (mean ± std. dev. of 7 runs, 1,000,000 loops each)\n"
     ]
    }
   ],
   "source": [
    "%timeit find_sum([1,42,12,14])"
   ]
  },
  {
   "cell_type": "code",
   "execution_count": 8,
   "metadata": {},
   "outputs": [
    {
     "name": "stdout",
     "output_type": "stream",
     "text": [
      "414 ns ± 5.19 ns per loop (mean ± std. dev. of 7 runs, 1,000,000 loops each)\n"
     ]
    }
   ],
   "source": [
    "%timeit find_sum([1,42,12,14,1,42,12,14])"
   ]
  },
  {
   "cell_type": "code",
   "execution_count": 45,
   "metadata": {},
   "outputs": [],
   "source": [
    "# amount of steps increases with each input\n",
    "\n",
    "def find_sum_mean(a_list):\n",
    "    curr_sum = 0 # # O(n)\n",
    "   \n",
    "    for num in a_list:\n",
    "        curr_sum += num\n",
    "        \n",
    "    curr_avg = 0\n",
    "    # O(n)\n",
    "    for num in a_list:\n",
    "        curr_avg = (num + curr_avg) / 2\n",
    "        \n",
    "    return (curr_sum, curr_avg)\n",
    "\n",
    "# O(n + n) -> O(2n) -> O(n)"
   ]
  },
  {
   "cell_type": "code",
   "execution_count": 10,
   "metadata": {},
   "outputs": [],
   "source": [
    "def find_sum_mean(a_list):\n",
    "    curr_sum = 0\n",
    "    # O(n^2)\n",
    "    for num in a_list:\n",
    "        for num2 in a_list:\n",
    "            pass\n",
    "        curr_sum += num\n",
    "        \n",
    "    curr_avg = 0\n",
    "    # O(n)\n",
    "    for num in a_list:\n",
    "        curr_avg = (num + curr_avg) / 2\n",
    "        \n",
    "    return (curr_sum, curr_avg)\n",
    "\n",
    "# O(n^2 + n) -> O(n^2)"
   ]
  },
  {
   "cell_type": "code",
   "execution_count": 11,
   "metadata": {},
   "outputs": [
    {
     "name": "stdout",
     "output_type": "stream",
     "text": [
      "855 ns ± 15.4 ns per loop (mean ± std. dev. of 7 runs, 1,000,000 loops each)\n"
     ]
    }
   ],
   "source": [
    "%timeit find_sum_mean([1,42,12])"
   ]
  },
  {
   "cell_type": "code",
   "execution_count": 12,
   "metadata": {},
   "outputs": [
    {
     "name": "stdout",
     "output_type": "stream",
     "text": [
      "1.12 µs ± 29.5 ns per loop (mean ± std. dev. of 7 runs, 1,000,000 loops each)\n"
     ]
    }
   ],
   "source": [
    "%timeit find_sum_mean([1,42,12,14])"
   ]
  },
  {
   "cell_type": "code",
   "execution_count": 13,
   "metadata": {},
   "outputs": [
    {
     "name": "stdout",
     "output_type": "stream",
     "text": [
      "2.57 µs ± 439 ns per loop (mean ± std. dev. of 7 runs, 100,000 loops each)\n"
     ]
    }
   ],
   "source": [
    "%timeit find_sum_mean([1,42,12,14,1,42,12,14])"
   ]
  },
  {
   "cell_type": "code",
   "execution_count": null,
   "metadata": {},
   "outputs": [],
   "source": [
    "def convert_to_set_and_dict(alist):\n",
    "    output_set, hash_map = set(), {} #O(1)\n",
    "    for e in alist: #O(N)\n",
    "        output_set.add(e) #O(1)\n",
    "    for e in alist: #O(N)\n",
    "        hash_map[e] = hash.map.get(e, 0) + 1 #O(1)\n",
    "    return output_set, hash_map #O(1)\n",
    "\n",
    "#O(N + N + 1 + 1 + 1) -> O(2N + 1) -> O(N)\n",
    "#O(N) Linear"
   ]
  },
  {
   "cell_type": "code",
   "execution_count": null,
   "metadata": {},
   "outputs": [],
   "source": [
    "#Trick Question\n",
    "\n",
    "def decided_last_element(boolean_list):\n",
    "#    first loop we hit a return\n",
    "#    unable to get past first loop\n",
    "#    constantly return on first loop\n",
    "    for b in boolean_list:\n",
    "        if not boolean_list[-1]:\n",
    "            return True\n",
    "        else:\n",
    "            return False\n",
    "        \n",
    "# O(1)"
   ]
  },
  {
   "cell_type": "code",
   "execution_count": null,
   "metadata": {},
   "outputs": [],
   "source": [
    "# count, index, pop, insert, upper, lower, sum\n",
    "\n",
    "# .count() -> O(N) linear time complexity\n",
    "\n",
    "# index O(N) \n",
    "# best case is O(1) constant\n",
    "[1,3,4,5,6,7,8].index(8) # could be 1 step \n",
    "[8,1,3,4,5,6,7,8].index(8) #is 1 step O(1)\n",
    "\n",
    "# pop default argument or index -> O(1)\n",
    "# popping passing an index -> O(N)\n",
    "\n",
    "[1,2,3,4,6].pop(0) # linear O(N)\n",
    "[2,3,4,6].pop() # constant O(1)\n",
    "\n",
    "# reversing O(N)\n",
    "[1,2,3,4,5][::-1]\n",
    "[5,4,3,2,1]\n",
    "\n",
    "'sean'.upper() # O(N) grabbing every element in the string\n",
    "'SEAN'.lower() # O(N) grabbing every element in the string\n",
    "\n",
    "# sum O(N)\n",
    "\n",
    "# indexing into iterable is constant\n",
    "[i for i in range(10000000)[600]] #O(1)\n",
    "\n",
    "#CONSTANT IS FIXED/DOESN'T CHANGE\n",
    "#LINEAR CAN CHANGE\n",
    "\n",
    "# .append O(1)\n",
    "[1,2,3,5].append(10)\n",
    "\n",
    "# .insert() O(N)\n",
    "inserted = [1,2,3,4,5]\n",
    "inserted.insert(0,10)\n",
    "inserted\n"
   ]
  },
  {
   "cell_type": "code",
   "execution_count": null,
   "metadata": {},
   "outputs": [],
   "source": [
    "# Membership Checks\n",
    "print(10 in [1,2,3,34,5,7,10]) # O(N) checks every element until finds match or finishes list\n",
    "100 in (1,2,3,34,5,7,10) # O(N) checks eery element until finds match or finishes tuple\n",
    "3 in '123345710' #  O(N) checks every element until finds match or finishes string\n",
    "\n",
    "my_set = {1,2,3,4,5,6,7,8,9} # O(1) key values are hashed, stored in memory\n",
    "\n",
    "my_dict = {'a':0,'b':1,'c':2} # O(1) key values are hashed, stored in memory\n",
    "\n",
    "'c' in my_dict\n",
    "\n",
    "2 in my_dict.values() # O(2N) .values returns list like object"
   ]
  },
  {
   "attachments": {},
   "cell_type": "markdown",
   "metadata": {},
   "source": [
    "##### O(log(n))\n",
    "A logarithmic time complexity increases linearly as the input increases exponentially. Usually this occurs when we decrease the size of our input as we move through our algorithm. It is O(log(n)) when we do divide and conquer type of algorithms like binary search. \n",
    "\n",
    "Additional Explanations:\n",
    "https://www.youtube.com/watch?v=wjDY5RbILno\n"
   ]
  },
  {
   "cell_type": "code",
   "execution_count": 14,
   "metadata": {},
   "outputs": [
    {
     "data": {
      "text/plain": [
       "3"
      ]
     },
     "execution_count": 14,
     "metadata": {},
     "output_type": "execute_result"
    }
   ],
   "source": [
    "# Much more efficent than linear\n",
    "\n",
    "def log_func(n):\n",
    "    curr_product = 1\n",
    "    iterations = 0\n",
    "    while n != curr_product:\n",
    "        curr_product *= 2\n",
    "        iterations += 1\n",
    "        \n",
    "    return iterations\n",
    "\n",
    "    \n",
    "        \n",
    "log_func(8)"
   ]
  },
  {
   "cell_type": "code",
   "execution_count": 47,
   "metadata": {},
   "outputs": [
    {
     "name": "stdout",
     "output_type": "stream",
     "text": [
      "11 not found\n"
     ]
    },
    {
     "data": {
      "text/plain": [
       "'999999999999 not found'"
      ]
     },
     "execution_count": 47,
     "metadata": {},
     "output_type": "execute_result"
    }
   ],
   "source": [
    "# Binary Search Algorithm: only works with sorted list\n",
    "# split numbers in half\n",
    "# decide if higher or lower\n",
    "# do while\n",
    "\n",
    "def binary_search(target, alist):\n",
    "    left_point, right_point = 0, len(alist) - 1\n",
    "    step = 0\n",
    "    while left_point < right_point -2:\n",
    "        step += 1\n",
    "        mid_point = (left_point + right_point) // 2\n",
    "        if alist[mid_point] == target:\n",
    "            return f'At position {mid_point}, Target: {alist[mid_point]} found in {step} steps'\n",
    "        if alist[mid_point] > target:\n",
    "            right_point = mid_point\n",
    "        else:\n",
    "            left_point = mid_point\n",
    "    return f'{target} not found'\n",
    "\n",
    "num_list = [1,2,3,4,5,6,7,8,9,10]\n",
    "\n",
    "print(binary_search(11, num_list))\n",
    "binary_search(999999999999, [num for num in range(1000, 10000000)])\n"
   ]
  },
  {
   "cell_type": "code",
   "execution_count": 15,
   "metadata": {},
   "outputs": [
    {
     "data": {
      "text/plain": [
       "3"
      ]
     },
     "execution_count": 15,
     "metadata": {},
     "output_type": "execute_result"
    }
   ],
   "source": [
    "def log_func_recursive(n):\n",
    "    if n <= 1:\n",
    "        return 0\n",
    "    \n",
    "    n = n / 2\n",
    "    return 1 + log_func_recursive(n)\n",
    "\n",
    "log_func_recursive(8)"
   ]
  },
  {
   "cell_type": "code",
   "execution_count": 16,
   "metadata": {},
   "outputs": [
    {
     "name": "stdout",
     "output_type": "stream",
     "text": [
      "697 ns ± 17.7 ns per loop (mean ± std. dev. of 7 runs, 100,000 loops each)\n"
     ]
    }
   ],
   "source": [
    "%timeit log_func_recursive(32)"
   ]
  },
  {
   "cell_type": "code",
   "execution_count": 17,
   "metadata": {},
   "outputs": [
    {
     "name": "stdout",
     "output_type": "stream",
     "text": [
      "849 ns ± 20.3 ns per loop (mean ± std. dev. of 7 runs, 1,000,000 loops each)\n"
     ]
    }
   ],
   "source": [
    "%timeit log_func_recursive(33)"
   ]
  },
  {
   "cell_type": "code",
   "execution_count": 18,
   "metadata": {},
   "outputs": [
    {
     "name": "stdout",
     "output_type": "stream",
     "text": [
      "849 ns ± 19.6 ns per loop (mean ± std. dev. of 7 runs, 1,000,000 loops each)\n"
     ]
    }
   ],
   "source": [
    "%timeit log_func_recursive(64)"
   ]
  },
  {
   "cell_type": "code",
   "execution_count": null,
   "metadata": {},
   "outputs": [],
   "source": []
  },
  {
   "attachments": {},
   "cell_type": "markdown",
   "metadata": {},
   "source": [
    "###### O(n^2) Example\n",
    "When an algorithm needs to perform a linear time operation for each value in the input data"
   ]
  },
  {
   "cell_type": "code",
   "execution_count": 19,
   "metadata": {},
   "outputs": [
    {
     "name": "stdout",
     "output_type": "stream",
     "text": [
      "1 1\n",
      "1 2\n",
      "1 3\n",
      "2 1\n",
      "2 2\n",
      "2 3\n",
      "3 1\n",
      "3 2\n",
      "3 3\n",
      "4 1\n",
      "4 2\n",
      "4 3\n"
     ]
    }
   ],
   "source": [
    "a_list = [1,2,3,4]\n",
    "b_list = [1,2,3]\n",
    "\n",
    "for num1 in a_list:\n",
    "    for num2 in b_list:\n",
    "        print(num1, num2)"
   ]
  },
  {
   "cell_type": "code",
   "execution_count": 20,
   "metadata": {},
   "outputs": [],
   "source": [
    "def make_pair(a_list, b_list):\n",
    "    res_list = []\n",
    "    for num1 in a_list:\n",
    "        for num2 in b_list:\n",
    "            res_list.append((num1, num2))\n",
    "            \n",
    "    return res_list"
   ]
  },
  {
   "cell_type": "code",
   "execution_count": 21,
   "metadata": {},
   "outputs": [
    {
     "name": "stdout",
     "output_type": "stream",
     "text": [
      "1.01 µs ± 44 ns per loop (mean ± std. dev. of 7 runs, 1,000,000 loops each)\n"
     ]
    }
   ],
   "source": [
    "%timeit make_pair([1,2,3], [4,5,6])"
   ]
  },
  {
   "cell_type": "code",
   "execution_count": 22,
   "metadata": {},
   "outputs": [
    {
     "name": "stdout",
     "output_type": "stream",
     "text": [
      "1.44 µs ± 39.3 ns per loop (mean ± std. dev. of 7 runs, 1,000,000 loops each)\n"
     ]
    }
   ],
   "source": [
    "%timeit make_pair([1,2,3,4], [4,5,6,7])"
   ]
  },
  {
   "cell_type": "code",
   "execution_count": 23,
   "metadata": {},
   "outputs": [
    {
     "name": "stdout",
     "output_type": "stream",
     "text": [
      "2.84 µs ± 133 ns per loop (mean ± std. dev. of 7 runs, 100,000 loops each)\n"
     ]
    }
   ],
   "source": [
    "%timeit make_pair([1,2,3,4,5,6], [4,5,6,7,8,9])"
   ]
  },
  {
   "cell_type": "code",
   "execution_count": 48,
   "metadata": {},
   "outputs": [
    {
     "data": {
      "text/plain": [
       "1"
      ]
     },
     "execution_count": 48,
     "metadata": {},
     "output_type": "execute_result"
    }
   ],
   "source": [
    "def find_most_occuring(alist):\n",
    "    max_count = 0 #O(1)\n",
    "    output_element = None # O(1)\n",
    "    for e in alist: # O(N)\n",
    "        if alist.count(e) > max_count: # O(1)\n",
    "            max_count = alist.count(e) # O(N)\n",
    "            output_element = e # O(1)\n",
    "    return output_element # O(1)\n",
    "           \n",
    "# O(N**2) when there is a linear nested within a linear\n",
    "\n",
    "find_most_occuring([1,1,4,4,9,1,9,1])\n"
   ]
  },
  {
   "cell_type": "code",
   "execution_count": 49,
   "metadata": {},
   "outputs": [
    {
     "data": {
      "text/plain": [
       "True"
      ]
     },
     "execution_count": 49,
     "metadata": {},
     "output_type": "execute_result"
    }
   ],
   "source": [
    "def find_vowell(astring):\n",
    "    vowells = 'aeiou' # O(1)\n",
    "    for letter in astring.lower(): # O(2N)\n",
    "        if letter in vowells: # only loops through each letter 5 times since there are only 5 letters in 'aeiou' string\n",
    "            return True\n",
    "    return False\n",
    "\n",
    "find_vowell('bcdA')\n",
    "\n",
    "# membership check on string, tuple, or list is linear"
   ]
  },
  {
   "attachments": {},
   "cell_type": "markdown",
   "metadata": {},
   "source": [
    "### In-Class Exercise\n",
    "In a comment in the following three cells, classify each algorithm into one of the time complexities discussed above."
   ]
  },
  {
   "cell_type": "code",
   "execution_count": 24,
   "metadata": {},
   "outputs": [],
   "source": [
    "def two_sum_loops(nums, target):\n",
    "    for i, num in enumerate(nums): # O(2N)\n",
    "        for j, num2 in enumerate(nums[i + 1:]): # O(3N)\n",
    "            if target - num == num2: # O(1)\n",
    "                return [i,j+i+1] # O(1)\n",
    "            \n",
    "# O(n**2)\n",
    "\n",
    "# Time complexity of a slice is "
   ]
  },
  {
   "cell_type": "code",
   "execution_count": 25,
   "metadata": {},
   "outputs": [],
   "source": [
    "def two_sum(nums, target):\n",
    "    d={} # O(1)\n",
    "    for i, num in enumerate(nums): # O(2n + 2)\n",
    "        if target - num in d: # O(1)\n",
    "            return [d[target-num],i] # O(1)\n",
    "        d[num]=i # O(1)\n",
    "    return -1 # O(1)\n",
    "\n",
    "# O(n)"
   ]
  },
  {
   "cell_type": "code",
   "execution_count": 26,
   "metadata": {},
   "outputs": [],
   "source": [
    "def check_if_num_in_list(a_list, value):\n",
    "    return value in a_list #O(n)\n",
    "\n",
    "# O(n)"
   ]
  },
  {
   "cell_type": "code",
   "execution_count": null,
   "metadata": {},
   "outputs": [],
   "source": [
    "# function that removes from list and takes in list and target\n",
    "\n",
    "def remove_from_list(alist, target):\n",
    "    for i, e in alist: # O(N)\n",
    "        if e == target: # O(1)\n",
    "            alist.pop(i) # O(N)\n",
    "            return alist # O(1)\n",
    "    return alist # O(1)\n",
    "\n",
    "# O(N**2)"
   ]
  },
  {
   "attachments": {},
   "cell_type": "markdown",
   "metadata": {},
   "source": [
    "## Space Complexity\n",
    "Space complexity refers to the total amount of memory space that is consumed by an algorithm. This value includes both any new values created as well as well as input values\n",
    "\n",
    "We'll use Big O notation for space complexity as well. In this case, Big O gives the worst-case of an algorithm’s growth rate. \n",
    "\n",
    "\"The space this algorithm takes will grow no more quickly than this, but it could grow more slowly.\""
   ]
  },
  {
   "attachments": {},
   "cell_type": "markdown",
   "metadata": {},
   "source": [
    "###### O(1) Example"
   ]
  },
  {
   "cell_type": "code",
   "execution_count": 27,
   "metadata": {},
   "outputs": [],
   "source": [
    "# O(1) + O(1) => O(1 + 1) => O(1)\n",
    "def make_sum(a,b):\n",
    "    return a + b"
   ]
  },
  {
   "cell_type": "code",
   "execution_count": 28,
   "metadata": {},
   "outputs": [
    {
     "data": {
      "text/plain": [
       "45"
      ]
     },
     "execution_count": 28,
     "metadata": {},
     "output_type": "execute_result"
    }
   ],
   "source": [
    "input1 = 10 # O(1)\n",
    "input2 = 35 # O(1)\n",
    "\n",
    "make_sum(input1, input2)"
   ]
  },
  {
   "attachments": {},
   "cell_type": "markdown",
   "metadata": {},
   "source": [
    "###### O(n) Example\n"
   ]
  },
  {
   "cell_type": "code",
   "execution_count": 29,
   "metadata": {},
   "outputs": [],
   "source": [
    "#             O(1)\n",
    "def make_list(number_to_add):\n",
    "    # Start of Auxiliary Space\n",
    "    res_list = [] # O(n)\n",
    "    \n",
    "    for num in range(number_to_add):\n",
    "        res_list.append(num)\n",
    "        \n",
    "    return res_list\n",
    "    # End of Auxiliary Space"
   ]
  },
  {
   "cell_type": "code",
   "execution_count": 30,
   "metadata": {},
   "outputs": [],
   "source": [
    "# Input space: O(1)\n",
    "# Auxiliary space: O(n)\n",
    "\n",
    "# Total space: O(1 + n) => O(n)"
   ]
  },
  {
   "cell_type": "code",
   "execution_count": 31,
   "metadata": {},
   "outputs": [
    {
     "name": "stdout",
     "output_type": "stream",
     "text": [
      "[0, 1, 2, 3, 4, 5, 6, 7, 8, 9, 10, 11, 12, 13, 14, 15, 16, 17, 18, 19, 20, 21, 22, 23, 24]\n"
     ]
    }
   ],
   "source": [
    "print(make_list(25))"
   ]
  },
  {
   "cell_type": "code",
   "execution_count": 32,
   "metadata": {},
   "outputs": [
    {
     "name": "stdout",
     "output_type": "stream",
     "text": [
      "[0, 1, 2, 3, 4, 5, 6, 7, 8, 9, 10, 11, 12, 13, 14, 15, 16, 17, 18, 19, 20, 21, 22, 23, 24, 25, 26, 27, 28, 29, 30, 31, 32, 33, 34]\n"
     ]
    }
   ],
   "source": [
    "print(make_list(35))"
   ]
  },
  {
   "attachments": {},
   "cell_type": "markdown",
   "metadata": {},
   "source": [
    "Input Space: O(n) <- This comes from aList in the input\n",
    "Auxiliary Space: O(1) <- The only variables created in the function are integers\n",
    "\n",
    "Total Space: O(n + 1) or O(n)"
   ]
  },
  {
   "cell_type": "code",
   "execution_count": 33,
   "metadata": {},
   "outputs": [],
   "source": [
    "#                 O(n)    O(1)   => O(n + 1) => O(n)\n",
    "def binary_search(a_list, target):\n",
    "    lower_bound = 0 # O(1)\n",
    "    upper_bound = len(a_list) - 1 # O(1)\n",
    "    mid = None # O(1)\n",
    "    found = False # O(1)\n",
    "    \n",
    "    while not found:\n",
    "        mid = (lower_bound + upper_bound) // 2\n",
    "        \n",
    "        if a_list[mid] > target:\n",
    "            upper_bound = mid - 1\n",
    "        elif a_list[mid] < target:\n",
    "            lower_bound = mid + 1\n",
    "        else:\n",
    "            found = True\n",
    "            \n",
    "    return mid\n",
    "    # Auxiliary Space => O(1 + 1 + 1 + 1) => O(1)"
   ]
  },
  {
   "cell_type": "code",
   "execution_count": 34,
   "metadata": {},
   "outputs": [],
   "source": [
    "# O(n + 1) => O(n)"
   ]
  },
  {
   "cell_type": "code",
   "execution_count": 35,
   "metadata": {},
   "outputs": [
    {
     "data": {
      "text/plain": [
       "3"
      ]
     },
     "execution_count": 35,
     "metadata": {},
     "output_type": "execute_result"
    }
   ],
   "source": [
    "binary_search([1,2,3,4,5], 4)"
   ]
  },
  {
   "cell_type": "code",
   "execution_count": 36,
   "metadata": {},
   "outputs": [
    {
     "data": {
      "text/plain": [
       "[1, 2, 3, 4, 5]"
      ]
     },
     "execution_count": 36,
     "metadata": {},
     "output_type": "execute_result"
    }
   ],
   "source": [
    "[1,2,3,4,5] # Looking for 4"
   ]
  },
  {
   "cell_type": "code",
   "execution_count": null,
   "metadata": {},
   "outputs": [],
   "source": [
    "def get_squared_numbers(num):\n",
    "    output = []\n",
    "    for n in range(num):\n",
    "        output.append(n**2)\n",
    "    return output\n",
    "\n",
    "# O(N)"
   ]
  },
  {
   "attachments": {},
   "cell_type": "markdown",
   "metadata": {},
   "source": [
    "The recursive calls generate new function calls in the stack. Each call on the stack stores a separate copy of the variables defined in the function. The array is passed by reference so a separate copy of the array is not created for each function call. As we can have O(log(n)) calls to the function, the space complexity of the recursive version should include the O(log(n)) auxiliary space. Hence, the overall space complexity is:\n",
    "\n",
    "Input space: O(n)\n",
    "Auxiliary space: O(log n)\n",
    "\n",
    "Total Space: O(n + log n) OR O(n)"
   ]
  },
  {
   "cell_type": "code",
   "execution_count": 37,
   "metadata": {},
   "outputs": [
    {
     "data": {
      "text/plain": [
       "4"
      ]
     },
     "execution_count": 37,
     "metadata": {},
     "output_type": "execute_result"
    }
   ],
   "source": [
    "# Calls to the function O(log(n))\n",
    "# O(n)\n",
    "def binary_search_recursive(a_list, target):\n",
    "    mid = len(a_list) // 2 # O(1)\n",
    "    \n",
    "    if a_list[mid] == target:\n",
    "        return mid\n",
    "    elif a_list[mid] > target:\n",
    "        return binary_search(a_list[:mid], target)\n",
    "    else:\n",
    "        return mid + binary_search(a_list[mid:], target)\n",
    "    \n",
    "    \n",
    "    \n",
    "binary_search([1,5,8,9, 10], 10)"
   ]
  },
  {
   "cell_type": "code",
   "execution_count": 38,
   "metadata": {},
   "outputs": [],
   "source": [
    "# O(log(n) + n) => O(n)"
   ]
  },
  {
   "attachments": {},
   "cell_type": "markdown",
   "metadata": {},
   "source": []
  }
 ],
 "metadata": {
  "kernelspec": {
   "display_name": "Python 3",
   "language": "python",
   "name": "python3"
  },
  "language_info": {
   "codemirror_mode": {
    "name": "ipython",
    "version": 3
   },
   "file_extension": ".py",
   "mimetype": "text/x-python",
   "name": "python",
   "nbconvert_exporter": "python",
   "pygments_lexer": "ipython3",
   "version": "3.11.3"
  }
 },
 "nbformat": 4,
 "nbformat_minor": 2
}
